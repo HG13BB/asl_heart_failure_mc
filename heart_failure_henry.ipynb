{
 "cells": [
  {
   "cell_type": "code",
   "execution_count": 11,
   "id": "e4439539-6603-4511-b2d0-e3dca72b12f8",
   "metadata": {},
   "outputs": [],
   "source": [
    "import os\n",
    "import numpy as np \n",
    "import pandas as pd \n",
    "import warnings\n",
    "import seaborn as sns\n",
    "import matplotlib.pyplot as plt\n",
    "import plotly.express as px\n",
    "warnings.filterwarnings(\"ignore\")\n",
    "pd.set_option(\"display.max_rows\",None)\n",
    "from sklearn import preprocessing\n",
    "import matplotlib \n",
    "matplotlib.style.use('ggplot')\n",
    "from sklearn.preprocessing import LabelEncoder\n",
    "from sklearn.model_selection import train_test_split"
   ]
  },
  {
   "cell_type": "code",
   "execution_count": 59,
   "id": "829ae459-181e-4291-a4f5-936f7359e227",
   "metadata": {},
   "outputs": [],
   "source": [
    "PROJECT = !gcloud config list --format 'value(core.project)'\n",
    "PROJECT = PROJECT[0]\n",
    "BUCKET = PROJECT\n",
    "REGION = \"us-central1\"\n",
    "\n",
    "os.environ[\"BUCKET\"] = BUCKET\n",
    "os.environ[\"REGION\"] = REGION"
   ]
  },
  {
   "cell_type": "code",
   "execution_count": 12,
   "id": "1e158f9a-b18f-48e5-a1cb-5b5ecac20513",
   "metadata": {},
   "outputs": [],
   "source": [
    "hf_df = pd.read_csv(r'/home/jupyter/heart-failure/heart.csv')"
   ]
  },
  {
   "cell_type": "code",
   "execution_count": null,
   "id": "d555bef6-6348-43d9-915f-35d8f16f335e",
   "metadata": {},
   "outputs": [],
   "source": []
  },
  {
   "cell_type": "code",
   "execution_count": 13,
   "id": "65214465-687a-4260-acd7-64ce56417dbc",
   "metadata": {},
   "outputs": [
    {
     "data": {
      "text/html": [
       "<div>\n",
       "<style scoped>\n",
       "    .dataframe tbody tr th:only-of-type {\n",
       "        vertical-align: middle;\n",
       "    }\n",
       "\n",
       "    .dataframe tbody tr th {\n",
       "        vertical-align: top;\n",
       "    }\n",
       "\n",
       "    .dataframe thead th {\n",
       "        text-align: right;\n",
       "    }\n",
       "</style>\n",
       "<table border=\"1\" class=\"dataframe\">\n",
       "  <thead>\n",
       "    <tr style=\"text-align: right;\">\n",
       "      <th></th>\n",
       "      <th>Age</th>\n",
       "      <th>Sex</th>\n",
       "      <th>ChestPainType</th>\n",
       "      <th>RestingBP</th>\n",
       "      <th>Cholesterol</th>\n",
       "      <th>FastingBS</th>\n",
       "      <th>RestingECG</th>\n",
       "      <th>MaxHR</th>\n",
       "      <th>ExerciseAngina</th>\n",
       "      <th>Oldpeak</th>\n",
       "      <th>ST_Slope</th>\n",
       "      <th>HeartDisease</th>\n",
       "    </tr>\n",
       "  </thead>\n",
       "  <tbody>\n",
       "    <tr>\n",
       "      <th>0</th>\n",
       "      <td>40</td>\n",
       "      <td>M</td>\n",
       "      <td>ATA</td>\n",
       "      <td>140</td>\n",
       "      <td>289</td>\n",
       "      <td>0</td>\n",
       "      <td>Normal</td>\n",
       "      <td>172</td>\n",
       "      <td>N</td>\n",
       "      <td>0.0</td>\n",
       "      <td>Up</td>\n",
       "      <td>0</td>\n",
       "    </tr>\n",
       "    <tr>\n",
       "      <th>1</th>\n",
       "      <td>49</td>\n",
       "      <td>F</td>\n",
       "      <td>NAP</td>\n",
       "      <td>160</td>\n",
       "      <td>180</td>\n",
       "      <td>0</td>\n",
       "      <td>Normal</td>\n",
       "      <td>156</td>\n",
       "      <td>N</td>\n",
       "      <td>1.0</td>\n",
       "      <td>Flat</td>\n",
       "      <td>1</td>\n",
       "    </tr>\n",
       "    <tr>\n",
       "      <th>2</th>\n",
       "      <td>37</td>\n",
       "      <td>M</td>\n",
       "      <td>ATA</td>\n",
       "      <td>130</td>\n",
       "      <td>283</td>\n",
       "      <td>0</td>\n",
       "      <td>ST</td>\n",
       "      <td>98</td>\n",
       "      <td>N</td>\n",
       "      <td>0.0</td>\n",
       "      <td>Up</td>\n",
       "      <td>0</td>\n",
       "    </tr>\n",
       "    <tr>\n",
       "      <th>3</th>\n",
       "      <td>48</td>\n",
       "      <td>F</td>\n",
       "      <td>ASY</td>\n",
       "      <td>138</td>\n",
       "      <td>214</td>\n",
       "      <td>0</td>\n",
       "      <td>Normal</td>\n",
       "      <td>108</td>\n",
       "      <td>Y</td>\n",
       "      <td>1.5</td>\n",
       "      <td>Flat</td>\n",
       "      <td>1</td>\n",
       "    </tr>\n",
       "    <tr>\n",
       "      <th>4</th>\n",
       "      <td>54</td>\n",
       "      <td>M</td>\n",
       "      <td>NAP</td>\n",
       "      <td>150</td>\n",
       "      <td>195</td>\n",
       "      <td>0</td>\n",
       "      <td>Normal</td>\n",
       "      <td>122</td>\n",
       "      <td>N</td>\n",
       "      <td>0.0</td>\n",
       "      <td>Up</td>\n",
       "      <td>0</td>\n",
       "    </tr>\n",
       "  </tbody>\n",
       "</table>\n",
       "</div>"
      ],
      "text/plain": [
       "   Age Sex ChestPainType  RestingBP  Cholesterol  FastingBS RestingECG  MaxHR  \\\n",
       "0   40   M           ATA        140          289          0     Normal    172   \n",
       "1   49   F           NAP        160          180          0     Normal    156   \n",
       "2   37   M           ATA        130          283          0         ST     98   \n",
       "3   48   F           ASY        138          214          0     Normal    108   \n",
       "4   54   M           NAP        150          195          0     Normal    122   \n",
       "\n",
       "  ExerciseAngina  Oldpeak ST_Slope  HeartDisease  \n",
       "0              N      0.0       Up             0  \n",
       "1              N      1.0     Flat             1  \n",
       "2              N      0.0       Up             0  \n",
       "3              Y      1.5     Flat             1  \n",
       "4              N      0.0       Up             0  "
      ]
     },
     "execution_count": 13,
     "metadata": {},
     "output_type": "execute_result"
    }
   ],
   "source": [
    "hf_df.head()"
   ]
  },
  {
   "cell_type": "code",
   "execution_count": 14,
   "id": "6c06e31d-d968-406a-82b9-2dec6548d11d",
   "metadata": {},
   "outputs": [
    {
     "data": {
      "text/plain": [
       "1    508\n",
       "0    410\n",
       "Name: HeartDisease, dtype: int64"
      ]
     },
     "execution_count": 14,
     "metadata": {},
     "output_type": "execute_result"
    }
   ],
   "source": [
    "hf_df.HeartDisease.value_counts()"
   ]
  },
  {
   "cell_type": "code",
   "execution_count": null,
   "id": "5c2657b6-bcea-427c-9b37-d32791298d8f",
   "metadata": {},
   "outputs": [],
   "source": []
  },
  {
   "cell_type": "code",
   "execution_count": 15,
   "id": "9efb372a-f0dd-4e21-ba58-66d7a0345c18",
   "metadata": {},
   "outputs": [],
   "source": [
    "Train, Test = train_test_split(hf_df, test_size=.2, stratify=hf_df.HeartDisease)"
   ]
  },
  {
   "cell_type": "code",
   "execution_count": 16,
   "id": "467fdf63-0a24-4eb2-ad93-c0e552a4a2f3",
   "metadata": {},
   "outputs": [
    {
     "data": {
      "text/plain": [
       "(1    406\n",
       " 0    328\n",
       " Name: HeartDisease, dtype: int64,\n",
       " 1    102\n",
       " 0     82\n",
       " Name: HeartDisease, dtype: int64)"
      ]
     },
     "execution_count": 16,
     "metadata": {},
     "output_type": "execute_result"
    }
   ],
   "source": [
    "Train.HeartDisease.value_counts(), Test.HeartDisease.value_counts()"
   ]
  },
  {
   "cell_type": "code",
   "execution_count": 64,
   "id": "0dc93087-5100-4481-a562-ae1534f34971",
   "metadata": {},
   "outputs": [],
   "source": [
    "def oversample_df(df,stratvar, addsamples,test_size,random_state):\n",
    "    #oversample the dataframe to get to ~1000 samples for automl.. keep dupes in same split\n",
    "    \n",
    "    Train, Test = train_test_split(hf_df, test_size=test_size, stratify=hf_df[stratvar],random_state=random_state)\n",
    "    \n",
    "    #define the amount to upsample in each group\n",
    "    train_upsample_num = addsamples * (1-test_size)\n",
    "    test_upsample_num = addsamples * test_size\n",
    "    \n",
    "    #split train and test to positive and negative classses and sample proportionately\n",
    "    perc = Train[stratvar].value_counts()[1]/Train[stratvar].value_counts().sum()\n",
    "    \n",
    "    train_pos_samples = int(np.around(Train[stratvar].value_counts()[1]/Train[stratvar].value_counts().sum() * train_upsample_num,0))\n",
    "    train_neg_samples = int(np.around(train_upsample_num - train_pos_samples))\n",
    "    \n",
    "    test_pos_samples = int(np.around(Test[stratvar].value_counts()[1]/Test[stratvar].value_counts().sum() * test_upsample_num,0))\n",
    "    test_neg_samples = int(np.around(test_upsample_num - test_pos_samples))\n",
    "    \n",
    "    \n",
    "    Train_pos_upsample = Train[Train[stratvar]==1].sample(train_pos_samples,random_state=random_state)\n",
    "    Train_neg_upsample = Train[Train[stratvar]==0].sample(train_neg_samples,random_state=random_state)\n",
    "    \n",
    "    Train_synth = pd.concat([Train,Train_pos_upsample,Train_neg_upsample])\n",
    "    Train_synth['tt_split'] = 'TRAIN'\n",
    "    \n",
    "    Test_pos_upsample = Test[Test[stratvar]==1].sample(test_pos_samples)\n",
    "    Test_neg_upsample = Test[Test[stratvar]==0].sample(test_neg_samples)\n",
    "    \n",
    "    Test_synth = pd.concat([Test,Test_pos_upsample,Test_neg_upsample])\n",
    "    \n",
    "    #split again to validation\n",
    "    Test_synth_sub, Validation_synth = train_test_split(Test_synth, test_size=.5, stratify=Test_synth[stratvar],random_state=random_state)\n",
    "    \n",
    "    Test_synth_sub['tt_split'] = 'TEST'\n",
    "    Validation_synth['tt_split'] = 'VALIDATE'\n",
    "\n",
    "    train_test_out = pd.concat([Train_synth,Test_synth_sub,Validation_synth])\n",
    "    \n",
    "    return train_test_out\n",
    "    \n",
    "    "
   ]
  },
  {
   "cell_type": "code",
   "execution_count": 65,
   "id": "4774beaa-f28d-498f-a59c-ccc4f2f49281",
   "metadata": {},
   "outputs": [],
   "source": [
    "hd_df_oversample = oversample_df(hf_df,stratvar='HeartDisease',\n",
    "                                 addsamples=1000-len(hf_df),test_size=.2,random_state=42)"
   ]
  },
  {
   "cell_type": "code",
   "execution_count": 66,
   "id": "e0696a71-355f-402c-bd73-b6e41fc18069",
   "metadata": {},
   "outputs": [
    {
     "data": {
      "text/plain": [
       "1000"
      ]
     },
     "execution_count": 66,
     "metadata": {},
     "output_type": "execute_result"
    }
   ],
   "source": [
    "hd_df_oversample.HeartDisease.value_counts().sum()"
   ]
  },
  {
   "cell_type": "code",
   "execution_count": 67,
   "id": "7a46c8de-6df2-47a0-b67c-e8dc9bfdac88",
   "metadata": {},
   "outputs": [
    {
     "data": {
      "text/plain": [
       "TRAIN       800\n",
       "TEST        100\n",
       "VALIDATE    100\n",
       "Name: tt_split, dtype: int64"
      ]
     },
     "execution_count": 67,
     "metadata": {},
     "output_type": "execute_result"
    }
   ],
   "source": [
    "hd_df_oversample.tt_split.value_counts()"
   ]
  },
  {
   "cell_type": "code",
   "execution_count": 68,
   "id": "d1fa5a09-65bc-4c81-8683-b70dfa425314",
   "metadata": {},
   "outputs": [],
   "source": [
    "heart_disease_bucket = F'gs://{BUCKET}/heart_failure/heart_oversample.csv'"
   ]
  },
  {
   "cell_type": "code",
   "execution_count": 70,
   "id": "09b1733c-8d40-4588-8683-15008e7a1528",
   "metadata": {},
   "outputs": [],
   "source": [
    "hd_df_oversample.to_csv(heart_disease_bucket,index=False)"
   ]
  }
 ],
 "metadata": {
  "environment": {
   "kernel": "python3",
   "name": "tf2-gpu.2-8.m103",
   "type": "gcloud",
   "uri": "gcr.io/deeplearning-platform-release/tf2-gpu.2-8:m103"
  },
  "kernelspec": {
   "display_name": "Python 3 (ipykernel)",
   "language": "python",
   "name": "python3"
  },
  "language_info": {
   "codemirror_mode": {
    "name": "ipython",
    "version": 3
   },
   "file_extension": ".py",
   "mimetype": "text/x-python",
   "name": "python",
   "nbconvert_exporter": "python",
   "pygments_lexer": "ipython3",
   "version": "3.7.12"
  }
 },
 "nbformat": 4,
 "nbformat_minor": 5
}
