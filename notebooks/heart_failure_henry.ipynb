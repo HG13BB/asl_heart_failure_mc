{
 "cells": [
  {
   "cell_type": "code",
   "execution_count": 103,
   "id": "e4439539-6603-4511-b2d0-e3dca72b12f8",
   "metadata": {},
   "outputs": [
    {
     "name": "stdout",
     "output_type": "stream",
     "text": [
      "TensorFlow version:  2.8.4\n"
     ]
    }
   ],
   "source": [
    "import os\n",
    "\n",
    "import matplotlib.pyplot as plt\n",
    "import pandas as pd\n",
    "import tensorflow\n",
    "import tensorflow as tf\n",
    "import math\n",
    "from sklearn.model_selection import train_test_split\n",
    "from tensorflow import feature_column as fc\n",
    "from tensorflow.keras import layers\n",
    "from IPython.display import display, HTML\n",
    "import seaborn as sns\n",
    "\n",
    "print(\"TensorFlow version: \", tf.version.VERSION)"
   ]
  },
  {
   "cell_type": "code",
   "execution_count": 104,
   "id": "829ae459-181e-4291-a4f5-936f7359e227",
   "metadata": {},
   "outputs": [],
   "source": [
    "PROJECT = !gcloud config list --format 'value(core.project)'\n",
    "PROJECT = PROJECT[0]\n",
    "BUCKET = PROJECT\n",
    "REGION = \"us-central1\"\n",
    "\n",
    "os.environ[\"BUCKET\"] = BUCKET\n",
    "os.environ[\"REGION\"] = REGION"
   ]
  },
  {
   "cell_type": "code",
   "execution_count": 149,
   "id": "0bdc0f52-52a4-408e-aea8-19a24ca22b71",
   "metadata": {},
   "outputs": [
    {
     "data": {
      "text/plain": [
       "'qwiklabs-asl-02-99f66d8df225'"
      ]
     },
     "execution_count": 149,
     "metadata": {},
     "output_type": "execute_result"
    }
   ],
   "source": [
    "BUCKET"
   ]
  },
  {
   "cell_type": "code",
   "execution_count": 105,
   "id": "1e158f9a-b18f-48e5-a1cb-5b5ecac20513",
   "metadata": {},
   "outputs": [],
   "source": [
    "hf_df = pd.read_csv(r'/home/jupyter/heart-failure/heart.csv')"
   ]
  },
  {
   "cell_type": "code",
   "execution_count": 89,
   "id": "65214465-687a-4260-acd7-64ce56417dbc",
   "metadata": {},
   "outputs": [
    {
     "data": {
      "text/html": [
       "<div>\n",
       "<style scoped>\n",
       "    .dataframe tbody tr th:only-of-type {\n",
       "        vertical-align: middle;\n",
       "    }\n",
       "\n",
       "    .dataframe tbody tr th {\n",
       "        vertical-align: top;\n",
       "    }\n",
       "\n",
       "    .dataframe thead th {\n",
       "        text-align: right;\n",
       "    }\n",
       "</style>\n",
       "<table border=\"1\" class=\"dataframe\">\n",
       "  <thead>\n",
       "    <tr style=\"text-align: right;\">\n",
       "      <th></th>\n",
       "      <th>Age</th>\n",
       "      <th>Sex</th>\n",
       "      <th>ChestPainType</th>\n",
       "      <th>RestingBP</th>\n",
       "      <th>Cholesterol</th>\n",
       "      <th>FastingBS</th>\n",
       "      <th>RestingECG</th>\n",
       "      <th>MaxHR</th>\n",
       "      <th>ExerciseAngina</th>\n",
       "      <th>Oldpeak</th>\n",
       "      <th>ST_Slope</th>\n",
       "      <th>HeartDisease</th>\n",
       "    </tr>\n",
       "  </thead>\n",
       "  <tbody>\n",
       "    <tr>\n",
       "      <th>0</th>\n",
       "      <td>40</td>\n",
       "      <td>M</td>\n",
       "      <td>ATA</td>\n",
       "      <td>140</td>\n",
       "      <td>289</td>\n",
       "      <td>0</td>\n",
       "      <td>Normal</td>\n",
       "      <td>172</td>\n",
       "      <td>N</td>\n",
       "      <td>0.0</td>\n",
       "      <td>Up</td>\n",
       "      <td>0</td>\n",
       "    </tr>\n",
       "    <tr>\n",
       "      <th>1</th>\n",
       "      <td>49</td>\n",
       "      <td>F</td>\n",
       "      <td>NAP</td>\n",
       "      <td>160</td>\n",
       "      <td>180</td>\n",
       "      <td>0</td>\n",
       "      <td>Normal</td>\n",
       "      <td>156</td>\n",
       "      <td>N</td>\n",
       "      <td>1.0</td>\n",
       "      <td>Flat</td>\n",
       "      <td>1</td>\n",
       "    </tr>\n",
       "    <tr>\n",
       "      <th>2</th>\n",
       "      <td>37</td>\n",
       "      <td>M</td>\n",
       "      <td>ATA</td>\n",
       "      <td>130</td>\n",
       "      <td>283</td>\n",
       "      <td>0</td>\n",
       "      <td>ST</td>\n",
       "      <td>98</td>\n",
       "      <td>N</td>\n",
       "      <td>0.0</td>\n",
       "      <td>Up</td>\n",
       "      <td>0</td>\n",
       "    </tr>\n",
       "    <tr>\n",
       "      <th>3</th>\n",
       "      <td>48</td>\n",
       "      <td>F</td>\n",
       "      <td>ASY</td>\n",
       "      <td>138</td>\n",
       "      <td>214</td>\n",
       "      <td>0</td>\n",
       "      <td>Normal</td>\n",
       "      <td>108</td>\n",
       "      <td>Y</td>\n",
       "      <td>1.5</td>\n",
       "      <td>Flat</td>\n",
       "      <td>1</td>\n",
       "    </tr>\n",
       "    <tr>\n",
       "      <th>4</th>\n",
       "      <td>54</td>\n",
       "      <td>M</td>\n",
       "      <td>NAP</td>\n",
       "      <td>150</td>\n",
       "      <td>195</td>\n",
       "      <td>0</td>\n",
       "      <td>Normal</td>\n",
       "      <td>122</td>\n",
       "      <td>N</td>\n",
       "      <td>0.0</td>\n",
       "      <td>Up</td>\n",
       "      <td>0</td>\n",
       "    </tr>\n",
       "  </tbody>\n",
       "</table>\n",
       "</div>"
      ],
      "text/plain": [
       "   Age Sex ChestPainType  RestingBP  Cholesterol  FastingBS RestingECG  MaxHR  \\\n",
       "0   40   M           ATA        140          289          0     Normal    172   \n",
       "1   49   F           NAP        160          180          0     Normal    156   \n",
       "2   37   M           ATA        130          283          0         ST     98   \n",
       "3   48   F           ASY        138          214          0     Normal    108   \n",
       "4   54   M           NAP        150          195          0     Normal    122   \n",
       "\n",
       "  ExerciseAngina  Oldpeak ST_Slope  HeartDisease  \n",
       "0              N      0.0       Up             0  \n",
       "1              N      1.0     Flat             1  \n",
       "2              N      0.0       Up             0  \n",
       "3              Y      1.5     Flat             1  \n",
       "4              N      0.0       Up             0  "
      ]
     },
     "execution_count": 89,
     "metadata": {},
     "output_type": "execute_result"
    }
   ],
   "source": [
    "hf_df.head()"
   ]
  },
  {
   "cell_type": "code",
   "execution_count": 124,
   "id": "0dc93087-5100-4481-a562-ae1534f34971",
   "metadata": {},
   "outputs": [],
   "source": [
    "def oversample_df(df,addsamples,test_size,random_state):\n",
    "    #oversample the dataframe to get to ~1000 samples for automl.. keep dupes in same split\n",
    "    \n",
    "    NUM_ROWS_TO_DUPLICATE = addsamples\n",
    "    TRAIN_SPLIT=1-test_size\n",
    "    VAL_SPLIT=test_size/2\n",
    "    TEST_SPLIT=test_size/2\n",
    "    RANDOM_SEED=42\n",
    "    \n",
    "    Y_Values = df[\"HeartDisease\"]\n",
    "\n",
    "    train, test = train_test_split(df, random_state=RANDOM_SEED, test_size=(TEST_SPLIT - TEST_SPLIT*VAL_SPLIT), stratify=Y_Values)\n",
    "\n",
    "    Y_Values = train[\"HeartDisease\"]\n",
    "    \n",
    "    train, val = train_test_split(train, random_state=RANDOM_SEED*2, test_size=VAL_SPLIT, stratify=Y_Values)\n",
    "\n",
    "    train['split'] = \"TRAIN\"\n",
    "    val['split'] = \"VALIDATE\"\n",
    "    test['split'] = \"TEST\"\n",
    "    \n",
    "    train_scaled = pd.concat([train, train.sample(n=math.ceil(NUM_ROWS_TO_DUPLICATE*TRAIN_SPLIT), random_state=RANDOM_SEED)],axis=0)\n",
    "    val_scaled = pd.concat([val, val.sample(n=math.ceil(NUM_ROWS_TO_DUPLICATE*VAL_SPLIT), random_state=RANDOM_SEED)],axis=0)\n",
    "    test_scaled = pd.concat([test, test.sample(n=math.ceil(NUM_ROWS_TO_DUPLICATE*TEST_SPLIT), random_state=RANDOM_SEED)],axis=0)\n",
    "    \n",
    "\n",
    "\n",
    "\n",
    "    scaled_dataset = pd.concat([train_scaled,val_scaled, test_scaled], axis=0)\n",
    "    \n",
    "    return scaled_dataset\n",
    "    \n",
    "    "
   ]
  },
  {
   "cell_type": "code",
   "execution_count": 130,
   "id": "4774beaa-f28d-498f-a59c-ccc4f2f49281",
   "metadata": {},
   "outputs": [],
   "source": [
    "hd_df_oversample = oversample_df(hf_df,\n",
    "                                 addsamples=100,test_size=.2,random_state=42)"
   ]
  },
  {
   "cell_type": "code",
   "execution_count": 141,
   "id": "0cdbcfb8-774b-4283-be5e-1f6009c1b6fa",
   "metadata": {},
   "outputs": [],
   "source": [
    "#split to three files to use the tf.data workflow\n",
    "\n",
    "split = hd_df_oversample.split.unique()\n",
    "\n",
    "col = list(hd_df_oversample.columns)\n",
    "keep_col = col.pop(col.index('split'))\n",
    "\n",
    "\n",
    "\n",
    "for s in split:\n",
    "    hd_df_oversample[hd_df_oversample['split']== s][hd_df_oversample.columns[:-1]].to_csv(F'gs://{BUCKET}/heart_failure/heart_failure_' + s + '.csv',index=False)"
   ]
  },
  {
   "cell_type": "code",
   "execution_count": 150,
   "id": "707727fd-7aaf-4f16-978e-e35b8df484fb",
   "metadata": {},
   "outputs": [
    {
     "name": "stdout",
     "output_type": "stream",
     "text": [
      "Overwriting supersample.py\n"
     ]
    }
   ],
   "source": [
    "%%writefile supersample.py\n",
    "\n",
    "import os\n",
    "\n",
    "import matplotlib.pyplot as plt\n",
    "import pandas as pd\n",
    "import tensorflow\n",
    "import tensorflow as tf\n",
    "import math\n",
    "from sklearn.model_selection import train_test_split\n",
    "from tensorflow import feature_column as fc\n",
    "from tensorflow.keras import layers\n",
    "from IPython.display import display, HTML\n",
    "import seaborn as sns\n",
    "\n",
    "print(\"TensorFlow version: \", tf.version.VERSION)\n",
    "\n",
    "\n",
    "hf_df = pd.read_csv(F'gs://qwiklabs-asl-02-99f66d8df225/heart_failure/heart.csv')\n",
    "\n",
    "\n",
    "\n",
    "def oversample_df(df,addsamples,test_size,random_state):\n",
    "    #oversample the dataframe to get to ~1000 samples for automl.. keep dupes in same split\n",
    "    \n",
    "    NUM_ROWS_TO_DUPLICATE = addsamples\n",
    "    TRAIN_SPLIT=1-test_size\n",
    "    VAL_SPLIT=test_size/2\n",
    "    TEST_SPLIT=test_size/2\n",
    "    RANDOM_SEED=42\n",
    "    \n",
    "    Y_Values = df[\"HeartDisease\"]\n",
    "\n",
    "    train, test = train_test_split(df, random_state=RANDOM_SEED, test_size=(TEST_SPLIT - TEST_SPLIT*VAL_SPLIT), stratify=Y_Values)\n",
    "\n",
    "    Y_Values = train[\"HeartDisease\"]\n",
    "    \n",
    "    train, val = train_test_split(train, random_state=RANDOM_SEED*2, test_size=VAL_SPLIT, stratify=Y_Values)\n",
    "\n",
    "    train['split'] = \"TRAIN\"\n",
    "    val['split'] = \"VALIDATE\"\n",
    "    test['split'] = \"TEST\"\n",
    "    \n",
    "    train_scaled = pd.concat([train, train.sample(n=math.ceil(NUM_ROWS_TO_DUPLICATE*TRAIN_SPLIT), random_state=RANDOM_SEED)],axis=0)\n",
    "    val_scaled = pd.concat([val, val.sample(n=math.ceil(NUM_ROWS_TO_DUPLICATE*VAL_SPLIT), random_state=RANDOM_SEED)],axis=0)\n",
    "    test_scaled = pd.concat([test, test.sample(n=math.ceil(NUM_ROWS_TO_DUPLICATE*TEST_SPLIT), random_state=RANDOM_SEED)],axis=0)\n",
    "    \n",
    "\n",
    "\n",
    "\n",
    "    scaled_dataset = pd.concat([train_scaled,val_scaled, test_scaled], axis=0)\n",
    "    \n",
    "    return scaled_dataset\n",
    "    \n",
    "hd_df_oversample = oversample_df(hf_df,addsamples=100,test_size=.2,random_state=42)\n",
    "\n",
    "\n",
    "#split to three files to use the tf.data workflow\n",
    "\n",
    "split = hd_df_oversample.split.unique()\n",
    "\n",
    "col = list(hd_df_oversample.columns)\n",
    "keep_col = col.pop(col.index('split'))\n",
    "\n",
    "\n",
    "\n",
    "for s in split:\n",
    "    hd_df_oversample[hd_df_oversample['split']== s][hd_df_oversample.columns[:-1]].to_csv(F'gs://qwiklabs-asl-02-99f66d8df225/heart_failure/heart_failure_' + s + '.csv',index=False)\n",
    "\n",
    "\n",
    "    \n"
   ]
  },
  {
   "cell_type": "code",
   "execution_count": 151,
   "id": "f904af27-435b-4fb8-9ae5-e06ac6ed9800",
   "metadata": {},
   "outputs": [
    {
     "name": "stdout",
     "output_type": "stream",
     "text": [
      "TensorFlow version:  2.8.4\n"
     ]
    }
   ],
   "source": [
    "!python supersample.py"
   ]
  },
  {
   "cell_type": "code",
   "execution_count": null,
   "id": "3ca39829-fe98-47b8-a2bc-949614633a76",
   "metadata": {},
   "outputs": [],
   "source": []
  }
 ],
 "metadata": {
  "environment": {
   "kernel": "python3",
   "name": "tf2-gpu.2-8.m103",
   "type": "gcloud",
   "uri": "gcr.io/deeplearning-platform-release/tf2-gpu.2-8:m103"
  },
  "kernelspec": {
   "display_name": "Python 3 (ipykernel)",
   "language": "python",
   "name": "python3"
  },
  "language_info": {
   "codemirror_mode": {
    "name": "ipython",
    "version": 3
   },
   "file_extension": ".py",
   "mimetype": "text/x-python",
   "name": "python",
   "nbconvert_exporter": "python",
   "pygments_lexer": "ipython3",
   "version": "3.7.12"
  }
 },
 "nbformat": 4,
 "nbformat_minor": 5
}
